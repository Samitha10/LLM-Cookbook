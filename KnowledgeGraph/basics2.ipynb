{
 "cells": [
  {
   "cell_type": "markdown",
   "metadata": {},
   "source": [
    "### Hybrid Search + Knowledge Graph\n",
    "Combining hybrid (vector + keyword) and graph retrieval methods for Advanced RAG"
   ]
  },
  {
   "cell_type": "code",
   "execution_count": 9,
   "metadata": {},
   "outputs": [],
   "source": [
    "import langchain, langchain_core, langchain_community\n",
    "from langchain_groq import ChatGroq\n",
    "import os"
   ]
  },
  {
   "cell_type": "code",
   "execution_count": 36,
   "metadata": {},
   "outputs": [],
   "source": [
    "llm = ChatGroq(\n",
    "    temperature=0, model_name=\"gemma2-9b-it\", api_key=os.environ.get(\"GROQ_KEY\")\n",
    ")\n",
    "NEO4J_URI = \"xxx\"\n",
    "NEO4J_USERNAME = \"xxx\"\n",
    "NEO4J_PASSWORD = \"xxx\""
   ]
  },
  {
   "cell_type": "code",
   "execution_count": 24,
   "metadata": {},
   "outputs": [],
   "source": [
    "from langchain_community.graphs import Neo4jGraph\n",
    "\n",
    "langchain.verbose = True\n",
    "graph = Neo4jGraph(url=NEO4J_URI, username=NEO4J_USERNAME, password=NEO4J_PASSWORD)"
   ]
  },
  {
   "cell_type": "code",
   "execution_count": 4,
   "metadata": {},
   "outputs": [
    {
     "name": "stderr",
     "output_type": "stream",
     "text": [
      "\n",
      "[notice] A new release of pip is available: 23.2.1 -> 24.1.2\n",
      "[notice] To update, run: python.exe -m pip install --upgrade pip\n"
     ]
    }
   ],
   "source": [
    "!pip --quiet install wikipedia"
   ]
  },
  {
   "cell_type": "code",
   "execution_count": 3,
   "metadata": {},
   "outputs": [],
   "source": [
    "from langchain.document_loaders import WikipediaLoader\n",
    "raw_doc = WikipediaLoader(query=\"Sri Lanka\").load()"
   ]
  },
  {
   "cell_type": "code",
   "execution_count": 5,
   "metadata": {},
   "outputs": [
    {
     "name": "stderr",
     "output_type": "stream",
     "text": [
      "\n",
      "[notice] A new release of pip is available: 23.2.1 -> 24.1.2\n",
      "[notice] To update, run: python.exe -m pip install --upgrade pip\n"
     ]
    }
   ],
   "source": [
    "!pip --quiet install tiktoken"
   ]
  },
  {
   "cell_type": "markdown",
   "metadata": {},
   "source": [
    "##### Split Documents"
   ]
  },
  {
   "cell_type": "code",
   "execution_count": 6,
   "metadata": {},
   "outputs": [],
   "source": [
    "import tiktoken\n",
    "from langchain.text_splitter import TokenTextSplitter\n",
    "text_splitter = TokenTextSplitter(chunk_size=512, chunk_overlap=24)\n",
    "docs = text_splitter.split_documents(raw_doc[:3])"
   ]
  },
  {
   "cell_type": "code",
   "execution_count": 7,
   "metadata": {},
   "outputs": [
    {
     "data": {
      "text/plain": [
       "Document(metadata={'title': 'Sri Lanka', 'summary': \"Sri Lanka, historically known as Ceylon, and officially the Democratic Socialist Republic of Sri Lanka, is an island country in South Asia. It lies in the Indian Ocean, southwest of the Bay of Bengal, separated from the Indian peninsula by the Gulf of Mannar and the Palk Strait. It shares a maritime border with the Maldives in the southwest and India in the northwest.\\nSri Lanka has a population of approximately 22 million and is home to many cultures, languages and ethnicities. The Sinhalese people form the majority of the population, followed by the Sri Lankan Tamils, who are the largest minority group and are concentrated in northern Sri Lanka; both groups have played an influential role in the island's history. Other long-established groups include the Moors, Indian Tamils, Burghers, Malays, Chinese, and Vedda.\\nSri Lanka's documented history goes back 3,000 years, with evidence of prehistoric human settlements dating back 125,000 years. The earliest known Buddhist writings of Sri Lanka, known collectively as the Pāli canon, date to the fourth Buddhist council, which took place in 29 BCE. Also called the Pearl of the Indian Ocean, or the Granary of the East, Sri Lanka's geographic location and deep harbours have made it of great strategic importance, from the earliest days of the ancient Silk Road trade route to today's so-called maritime Silk Road. Because its location made it a major trading hub, it was already known to both East Asians and Europeans as long ago as the Anuradhapura period. During a period of great political crisis in the Kingdom of Kotte, the Portuguese arrived in Sri Lanka and sought to control its maritime trade, with a part of Sri Lanka subsequently becoming a Portuguese possession. After the Sinhalese-Portuguese war, the Dutch Empire and the Kingdom of Kandy took control of those areas. The Dutch possessions were then taken by the British, who later extended their control over the whole island, colonising it from 1815 to 1948. A national movement for political independence arose in the early 20th century, and in 1948, Ceylon became a dominion. It was succeeded by the republic of Sri Lanka in 1972. Sri Lanka's more recent history was marred by a 26-year civil war, which began in 1983 and ended in 2009, when the Sri Lanka Armed Forces defeated the Liberation Tigers of Tamil Eelam.\\nSri Lanka is a developing country, ranking 78th on the Human Development Index. It is the highest-ranked South Asian nation in terms of development and has the second-highest per capita income in South Asia. However, the ongoing economic crisis has resulted in the collapse of its currency, rising inflation, and a humanitarian crisis due to a severe shortage of essentials. It has also led to an eruption of street protests, with citizens successfully demanding that the president and the government step down. The country has had a long history of engagement with modern international groups; it is a founding member of the SAARC, the G77 and the Non-Aligned Movement, as well as a member of the United Nations and the Commonwealth of Nations.\", 'source': 'https://en.wikipedia.org/wiki/Sri_Lanka'}, page_content=\"Sri Lanka, historically known as Ceylon, and officially the Democratic Socialist Republic of Sri Lanka, is an island country in South Asia. It lies in the Indian Ocean, southwest of the Bay of Bengal, separated from the Indian peninsula by the Gulf of Mannar and the Palk Strait. It shares a maritime border with the Maldives in the southwest and India in the northwest.\\nSri Lanka has a population of approximately 22 million and is home to many cultures, languages and ethnicities. The Sinhalese people form the majority of the population, followed by the Sri Lankan Tamils, who are the largest minority group and are concentrated in northern Sri Lanka; both groups have played an influential role in the island's history. Other long-established groups include the Moors, Indian Tamils, Burghers, Malays, Chinese, and Vedda.\\nSri Lanka's documented history goes back 3,000 years, with evidence of prehistoric human settlements dating back 125,000 years. The earliest known Buddhist writings of Sri Lanka, known collectively as the Pāli canon, date to the fourth Buddhist council, which took place in 29 BCE. Also called the Pearl of the Indian Ocean, or the Granary of the East, Sri Lanka's geographic location and deep harbours have made it of great strategic importance, from the earliest days of the ancient Silk Road trade route to today's so-called maritime Silk Road. Because its location made it a major trading hub, it was already known to both East Asians and Europeans as long ago as the Anuradhapura period. During a period of great political crisis in the Kingdom of Kotte, the Portuguese arrived in Sri Lanka and sought to control its maritime trade, with a part of Sri Lanka subsequently becoming a Portuguese possession. After the Sinhalese-Portuguese war, the Dutch Empire and the Kingdom of Kandy took control of those areas. The Dutch possessions were then taken by the British, who later extended their control over the whole island, colonising it from 1815 to 1948. A national movement for political independence arose in the early 20th century, and in 1948, Ceylon became a dominion. It was succeeded by the republic of Sri Lanka in 1972. Sri Lanka's more recent history was marred by a 26-year civil war, which began in 1983 and ended in 2009, when the Sri Lanka Armed Forces defeated the Liberation Tigers of Tamil Eelam.\\nSri Lanka is a developing country, ranking 78th on the Human Development Index\")"
      ]
     },
     "execution_count": 7,
     "metadata": {},
     "output_type": "execute_result"
    }
   ],
   "source": [
    "docs[0]"
   ]
  },
  {
   "cell_type": "markdown",
   "metadata": {},
   "source": [
    "##### Documents to graph transformer"
   ]
  },
  {
   "cell_type": "code",
   "execution_count": 13,
   "metadata": {},
   "outputs": [],
   "source": [
    "from langchain_experimental.graph_transformers import LLMGraphTransformer\n",
    "llm_graph_transformer = LLMGraphTransformer(llm=llm)\n"
   ]
  },
  {
   "cell_type": "code",
   "execution_count": 14,
   "metadata": {},
   "outputs": [],
   "source": [
    "graph_docs = llm_graph_transformer.convert_to_graph_documents(docs)"
   ]
  },
  {
   "cell_type": "code",
   "execution_count": 15,
   "metadata": {},
   "outputs": [
    {
     "data": {
      "text/plain": [
       "[GraphDocument(nodes=[Node(id='Sri Lanka', type='Country'), Node(id='Ceylon', type='Historical_name'), Node(id='Democratic Socialist Republic Of Sri Lanka', type='Official_name'), Node(id='South Asia', type='Continent'), Node(id='Indian Ocean', type='Ocean'), Node(id='Bay Of Bengal', type='Bay'), Node(id='Gulf Of Mannar', type='Gulf'), Node(id='Palk Strait', type='Strait'), Node(id='Maldives', type='Country'), Node(id='India', type='Country'), Node(id='Sinhalese', type='Ethnicity'), Node(id='Sri Lankan Tamils', type='Ethnicity'), Node(id='Moors', type='Ethnicity'), Node(id='Indian Tamils', type='Ethnicity'), Node(id='Burghers', type='Ethnicity'), Node(id='Malays', type='Ethnicity'), Node(id='Chinese', type='Ethnicity'), Node(id='Vedda', type='Ethnicity'), Node(id='Pāli Canon', type='Text'), Node(id='Silk Road', type='Trade_route'), Node(id='Anuradhapura Period', type='Historical_period'), Node(id='Kingdom Of Kotte', type='Kingdom'), Node(id='Portuguese', type='Empire'), Node(id='Dutch Empire', type='Empire'), Node(id='Kingdom Of Kandy', type='Kingdom'), Node(id='British', type='Empire'), Node(id='Liberation Tigers Of Tamil Eelam', type='Group'), Node(id='Sri Lanka Armed Forces', type='Military')], relationships=[Relationship(source=Node(id='Sri Lanka', type='Country'), target=Node(id='Ceylon', type='Historical_name'), type='HISTORICAL_NAME'), Relationship(source=Node(id='Sri Lanka', type='Country'), target=Node(id='Democratic Socialist Republic Of Sri Lanka', type='Official_name'), type='OFFICIAL_NAME'), Relationship(source=Node(id='Sri Lanka', type='Country'), target=Node(id='South Asia', type='Continent'), type='LOCATED_IN'), Relationship(source=Node(id='Sri Lanka', type='Country'), target=Node(id='Indian Ocean', type='Ocean'), type='LOCATED_IN'), Relationship(source=Node(id='Sri Lanka', type='Country'), target=Node(id='Bay Of Bengal', type='Bay'), type='NEAR'), Relationship(source=Node(id='Sri Lanka', type='Country'), target=Node(id='Gulf Of Mannar', type='Gulf'), type='SEPARATED_BY'), Relationship(source=Node(id='Sri Lanka', type='Country'), target=Node(id='Palk Strait', type='Strait'), type='SEPARATED_BY'), Relationship(source=Node(id='Sri Lanka', type='Country'), target=Node(id='Maldives', type='Country'), type='MARITIME_BORDER'), Relationship(source=Node(id='Sri Lanka', type='Country'), target=Node(id='India', type='Country'), type='MARITIME_BORDER'), Relationship(source=Node(id='Sri Lanka', type='Country'), target=Node(id='Sinhalese', type='Ethnicity'), type='MAJORITY_POPULATION'), Relationship(source=Node(id='Sri Lanka', type='Country'), target=Node(id='Sri Lankan Tamils', type='Ethnicity'), type='MINORITY_POPULATION'), Relationship(source=Node(id='Sri Lanka', type='Country'), target=Node(id='Moors', type='Ethnicity'), type='POPULATION_GROUP'), Relationship(source=Node(id='Sri Lanka', type='Country'), target=Node(id='Indian Tamils', type='Ethnicity'), type='POPULATION_GROUP'), Relationship(source=Node(id='Sri Lanka', type='Country'), target=Node(id='Burghers', type='Ethnicity'), type='POPULATION_GROUP'), Relationship(source=Node(id='Sri Lanka', type='Country'), target=Node(id='Malays', type='Ethnicity'), type='POPULATION_GROUP'), Relationship(source=Node(id='Sri Lanka', type='Country'), target=Node(id='Chinese', type='Ethnicity'), type='POPULATION_GROUP'), Relationship(source=Node(id='Sri Lanka', type='Country'), target=Node(id='Vedda', type='Ethnicity'), type='POPULATION_GROUP'), Relationship(source=Node(id='Sri Lanka', type='Country'), target=Node(id='Pāli Canon', type='Text'), type='EARLIEST_WRITINGS'), Relationship(source=Node(id='Sri Lanka', type='Country'), target=Node(id='Silk Road', type='Trade_route'), type='PART_OF'), Relationship(source=Node(id='Sri Lanka', type='Country'), target=Node(id='Anuradhapura Period', type='Historical_period'), type='KNOWN_TO'), Relationship(source=Node(id='Sri Lanka', type='Country'), target=Node(id='Kingdom Of Kotte', type='Kingdom'), type='PART_OF'), Relationship(source=Node(id='Sri Lanka', type='Country'), target=Node(id='Portuguese', type='Empire'), type='CONTROLLED_BY'), Relationship(source=Node(id='Sri Lanka', type='Country'), target=Node(id='Dutch Empire', type='Empire'), type='CONTROLLED_BY'), Relationship(source=Node(id='Sri Lanka', type='Country'), target=Node(id='Kingdom Of Kandy', type='Kingdom'), type='CONTROLLED_BY'), Relationship(source=Node(id='Sri Lanka', type='Country'), target=Node(id='British', type='Empire'), type='CONTROLLED_BY'), Relationship(source=Node(id='Sri Lanka', type='Country'), target=Node(id='Liberation Tigers Of Tamil Eelam', type='Group'), type='INVOLVED_IN_CONFLICT_WITH'), Relationship(source=Node(id='Sri Lanka', type='Country'), target=Node(id='Sri Lanka Armed Forces', type='Military'), type='DEFEATED')], source=Document(metadata={'title': 'Sri Lanka', 'summary': \"Sri Lanka, historically known as Ceylon, and officially the Democratic Socialist Republic of Sri Lanka, is an island country in South Asia. It lies in the Indian Ocean, southwest of the Bay of Bengal, separated from the Indian peninsula by the Gulf of Mannar and the Palk Strait. It shares a maritime border with the Maldives in the southwest and India in the northwest.\\nSri Lanka has a population of approximately 22 million and is home to many cultures, languages and ethnicities. The Sinhalese people form the majority of the population, followed by the Sri Lankan Tamils, who are the largest minority group and are concentrated in northern Sri Lanka; both groups have played an influential role in the island's history. Other long-established groups include the Moors, Indian Tamils, Burghers, Malays, Chinese, and Vedda.\\nSri Lanka's documented history goes back 3,000 years, with evidence of prehistoric human settlements dating back 125,000 years. The earliest known Buddhist writings of Sri Lanka, known collectively as the Pāli canon, date to the fourth Buddhist council, which took place in 29 BCE. Also called the Pearl of the Indian Ocean, or the Granary of the East, Sri Lanka's geographic location and deep harbours have made it of great strategic importance, from the earliest days of the ancient Silk Road trade route to today's so-called maritime Silk Road. Because its location made it a major trading hub, it was already known to both East Asians and Europeans as long ago as the Anuradhapura period. During a period of great political crisis in the Kingdom of Kotte, the Portuguese arrived in Sri Lanka and sought to control its maritime trade, with a part of Sri Lanka subsequently becoming a Portuguese possession. After the Sinhalese-Portuguese war, the Dutch Empire and the Kingdom of Kandy took control of those areas. The Dutch possessions were then taken by the British, who later extended their control over the whole island, colonising it from 1815 to 1948. A national movement for political independence arose in the early 20th century, and in 1948, Ceylon became a dominion. It was succeeded by the republic of Sri Lanka in 1972. Sri Lanka's more recent history was marred by a 26-year civil war, which began in 1983 and ended in 2009, when the Sri Lanka Armed Forces defeated the Liberation Tigers of Tamil Eelam.\\nSri Lanka is a developing country, ranking 78th on the Human Development Index. It is the highest-ranked South Asian nation in terms of development and has the second-highest per capita income in South Asia. However, the ongoing economic crisis has resulted in the collapse of its currency, rising inflation, and a humanitarian crisis due to a severe shortage of essentials. It has also led to an eruption of street protests, with citizens successfully demanding that the president and the government step down. The country has had a long history of engagement with modern international groups; it is a founding member of the SAARC, the G77 and the Non-Aligned Movement, as well as a member of the United Nations and the Commonwealth of Nations.\", 'source': 'https://en.wikipedia.org/wiki/Sri_Lanka'}, page_content=\"Sri Lanka, historically known as Ceylon, and officially the Democratic Socialist Republic of Sri Lanka, is an island country in South Asia. It lies in the Indian Ocean, southwest of the Bay of Bengal, separated from the Indian peninsula by the Gulf of Mannar and the Palk Strait. It shares a maritime border with the Maldives in the southwest and India in the northwest.\\nSri Lanka has a population of approximately 22 million and is home to many cultures, languages and ethnicities. The Sinhalese people form the majority of the population, followed by the Sri Lankan Tamils, who are the largest minority group and are concentrated in northern Sri Lanka; both groups have played an influential role in the island's history. Other long-established groups include the Moors, Indian Tamils, Burghers, Malays, Chinese, and Vedda.\\nSri Lanka's documented history goes back 3,000 years, with evidence of prehistoric human settlements dating back 125,000 years. The earliest known Buddhist writings of Sri Lanka, known collectively as the Pāli canon, date to the fourth Buddhist council, which took place in 29 BCE. Also called the Pearl of the Indian Ocean, or the Granary of the East, Sri Lanka's geographic location and deep harbours have made it of great strategic importance, from the earliest days of the ancient Silk Road trade route to today's so-called maritime Silk Road. Because its location made it a major trading hub, it was already known to both East Asians and Europeans as long ago as the Anuradhapura period. During a period of great political crisis in the Kingdom of Kotte, the Portuguese arrived in Sri Lanka and sought to control its maritime trade, with a part of Sri Lanka subsequently becoming a Portuguese possession. After the Sinhalese-Portuguese war, the Dutch Empire and the Kingdom of Kandy took control of those areas. The Dutch possessions were then taken by the British, who later extended their control over the whole island, colonising it from 1815 to 1948. A national movement for political independence arose in the early 20th century, and in 1948, Ceylon became a dominion. It was succeeded by the republic of Sri Lanka in 1972. Sri Lanka's more recent history was marred by a 26-year civil war, which began in 1983 and ended in 2009, when the Sri Lanka Armed Forces defeated the Liberation Tigers of Tamil Eelam.\\nSri Lanka is a developing country, ranking 78th on the Human Development Index\")),\n",
       " GraphDocument(nodes=[Node(id='Tamil Eelam', type='Location')], relationships=[Relationship(source=Node(id='Tamil Eelam', type='Location'), target=Node(id='Sri Lanka', type='Location'), type='IS_KNOWN_AS')], source=Document(metadata={'title': 'Sri Lanka', 'summary': \"Sri Lanka, historically known as Ceylon, and officially the Democratic Socialist Republic of Sri Lanka, is an island country in South Asia. It lies in the Indian Ocean, southwest of the Bay of Bengal, separated from the Indian peninsula by the Gulf of Mannar and the Palk Strait. It shares a maritime border with the Maldives in the southwest and India in the northwest.\\nSri Lanka has a population of approximately 22 million and is home to many cultures, languages and ethnicities. The Sinhalese people form the majority of the population, followed by the Sri Lankan Tamils, who are the largest minority group and are concentrated in northern Sri Lanka; both groups have played an influential role in the island's history. Other long-established groups include the Moors, Indian Tamils, Burghers, Malays, Chinese, and Vedda.\\nSri Lanka's documented history goes back 3,000 years, with evidence of prehistoric human settlements dating back 125,000 years. The earliest known Buddhist writings of Sri Lanka, known collectively as the Pāli canon, date to the fourth Buddhist council, which took place in 29 BCE. Also called the Pearl of the Indian Ocean, or the Granary of the East, Sri Lanka's geographic location and deep harbours have made it of great strategic importance, from the earliest days of the ancient Silk Road trade route to today's so-called maritime Silk Road. Because its location made it a major trading hub, it was already known to both East Asians and Europeans as long ago as the Anuradhapura period. During a period of great political crisis in the Kingdom of Kotte, the Portuguese arrived in Sri Lanka and sought to control its maritime trade, with a part of Sri Lanka subsequently becoming a Portuguese possession. After the Sinhalese-Portuguese war, the Dutch Empire and the Kingdom of Kandy took control of those areas. The Dutch possessions were then taken by the British, who later extended their control over the whole island, colonising it from 1815 to 1948. A national movement for political independence arose in the early 20th century, and in 1948, Ceylon became a dominion. It was succeeded by the republic of Sri Lanka in 1972. Sri Lanka's more recent history was marred by a 26-year civil war, which began in 1983 and ended in 2009, when the Sri Lanka Armed Forces defeated the Liberation Tigers of Tamil Eelam.\\nSri Lanka is a developing country, ranking 78th on the Human Development Index. It is the highest-ranked South Asian nation in terms of development and has the second-highest per capita income in South Asia. However, the ongoing economic crisis has resulted in the collapse of its currency, rising inflation, and a humanitarian crisis due to a severe shortage of essentials. It has also led to an eruption of street protests, with citizens successfully demanding that the president and the government step down. The country has had a long history of engagement with modern international groups; it is a founding member of the SAARC, the G77 and the Non-Aligned Movement, as well as a member of the United Nations and the Commonwealth of Nations.\", 'source': 'https://en.wikipedia.org/wiki/Sri_Lanka'}, page_content=' Tigers of Tamil Eelam.\\nSri Lanka is a developing country, ranking 78th on the Human Development Index. It is the highest-ranked South Asian nation in terms of development and has the second-highest per capita income in South Asia. However, the ongoing economic crisis has resulted in the collapse of its currency, rising inflation, and a humanitarian crisis due to a severe shortage of essentials. It has also led to an eruption of street protests, with citizens successfully demanding that the president and the government step down. The country has had a long history of engagement with modern international groups; it is a founding member of the SAARC, the G77 and the Non-Aligned Movement, as well as a member of the United Nations and the Commonwealth of Nations.\\n\\n\\n== Toponymy ==\\n\\nIn antiquity, Sri Lanka was known to travellers by a variety of names. According to the Mahāvaṃsa, the legendary Prince Vijaya named the island Tambapaṇṇĩ (\"copper-red hands\" or \"copper-red earth\"), because his followers\\' hands were reddened by the red soil of the area where he landed. In Hindu mythology, the term Lankā (\"Island\") appears but it is unknown whether it refers to the modern-day state. The Tamil term Eelam (Tamil: ஈழம், romanized: īḻam) was used to designate the whole island in Sangam literature. The island was known under Chola rule as Mummudi Cholamandalam (\"realm of the three crowned Cholas\").\\nAncient Greek geographers called it Taprobanā (Ancient Greek: Ταπροβανᾶ) or Taprobanē (Ταπροβανῆ) from the word Tambapanni. The Persians and Arabs referred to it as Sarandīb (the origin of the word \"serendipity\") from Sanskrit Siṃhaladvīpaḥ. Ceilão, the name given to Sri La')),\n",
       " GraphDocument(nodes=[Node(id='Sri Lankan Civil War', type='Conflict'), Node(id='Liberation Tigers Of Tamil Eelam', type='Group'), Node(id='Tamil Eelam', type='Territory'), Node(id='Sri Lanka', type='Country'), Node(id='Sri Lankan Tamils', type='Ethnic group'), Node(id='Sinhalese', type='Ethnic group'), Node(id='British Empire', type='Country'), Node(id='Velupillai Prabhakaran', type='Person'), Node(id='Jaffna Public Library', type='Building')], relationships=[Relationship(source=Node(id='Sri Lankan Civil War', type='Conflict'), target=Node(id='Liberation Tigers Of Tamil Eelam', type='Group'), type='INVOLVEDIN'), Relationship(source=Node(id='Liberation Tigers Of Tamil Eelam', type='Group'), target=Node(id='Tamil Eelam', type='Territory'), type='FOUGHTFOR'), Relationship(source=Node(id='Sri Lankan Tamils', type='Ethnic group'), target=Node(id='Sri Lanka', type='Country'), type='RESIDESIN'), Relationship(source=Node(id='Sinhalese', type='Ethnic group'), target=Node(id='Sri Lanka', type='Country'), type='RESIDESIN'), Relationship(source=Node(id='Sri Lanka', type='Country'), target=Node(id='British Empire', type='Country'), type='WASPARTOF'), Relationship(source=Node(id='Liberation Tigers Of Tamil Eelam', type='Group'), target=Node(id='Velupillai Prabhakaran', type='Person'), type='LEDBY'), Relationship(source=Node(id='Sri Lanka', type='Country'), target=Node(id='Jaffna Public Library', type='Building'), type='LOCATEDIN')], source=Document(metadata={'title': 'Sri Lankan Civil War', 'summary': 'The Sri Lankan Civil War (Sinhala: ශ්\\u200dරී ලංකාවේ සිවිල් යුද්ධය, romanized: śrī laṁkāvē sivil yuddhaya; Tamil: இலங்கை உள்நாட்டுப் போர், romanized: Ilaṅkai uḷnāṭṭup pōr) was a civil war fought in Sri Lanka from 1983 to 2009. Beginning on 23 July 1983, it was an intermittent insurgency against the government by the Liberation Tigers of Tamil Eelam (LTTE, also known as the Tamil Tigers) led by Velupillai Prabhakaran. The LTTE fought to create an independent Tamil state called Tamil Eelam in the north-east of the island, due to the continuous discrimination and violent persecution against Sri Lankan Tamils by the Sinhalese-dominated Sri Lanka government.\\nViolent persecution erupted in the form of the 1956, 1958, 1977, 1981 and 1983 anti-Tamil pogroms, as well as the 1981 burning of the Jaffna Public Library. These were carried out by the majority Sinhalese mobs often with state support, in the years following Sri Lanka\\'s independence from the British Empire in 1948. Shortly after gaining independence, Sinhalese was recognized as the sole official language of the nation. After a 26-year military campaign, the Sri Lankan military defeated the Tamil Tigers in May 2009, bringing the civil war to an end.\\nUp to 70,000 had been killed by 2007. Immediately following the end of war, on 20 May 2009, the UN estimated a total of 80,000–100,000 deaths. However, in 2011, referring to the final phase of the war in 2009, the Report of the Secretary-General\\'s Panel of Experts on Accountability in Sri Lanka stated, \"A number of credible sources have estimated that there could have been as many as 40,000 civilian deaths.\" The Sri Lankan government has repeatedly refused an independent, international investigation to ascertain the full impact of the war, with some reports claiming that government forces were raping and torturing Tamils involved in collating deaths and disappearances.\\nSince the end of the civil war, the Sri Lankan state has been subject to much global criticism for violating human rights as a result of committing war crimes through bombing civilian targets, usage of heavy weaponry, the abduction and massacres of Sri Lankan Tamils and sexual violence. The LTTE gained notoriety for carrying out numerous attacks against civilians of all ethnicities, particularly those of Sinhalese and Sri Lankan Muslim ethnicity, using child soldiers, assassinations of politicians and dissenters, and the use of suicide bombings against military, political and civilian targets.\\n\\n', 'source': 'https://en.wikipedia.org/wiki/Sri_Lankan_Civil_War'}, page_content='The Sri Lankan Civil War (Sinhala: ශ්\\u200dරී ලංකාවේ සිවිල් යුද්ධය, romanized: śrī laṁkāvē sivil yuddhaya; Tamil: இலங்கை உள்நாட்டுப் போர், romanized: Ilaṅkai uḷnāṭṭup pōr) was a civil war fought in Sri Lanka from 1983 to 2009. Beginning on 23 July 1983, it was an intermittent insurgency against the government by the Liberation Tigers of Tamil Eelam (LTTE, also known as the Tamil Tigers) led by Velupillai Prabhakaran. The LTTE fought to create an independent Tamil state called Tamil Eelam in the north-east of the island, due to the continuous discrimination and violent persecution against Sri Lankan Tamils by the Sinhalese-dominated Sri Lanka government.\\nViolent persecution erupted in the form of the 1956, 1958, 1977, 1981 and 1983 anti-Tamil pogroms, as well as the 1981 burning of the Jaffna Public Library. These were carried out by the majority Sinhalese mobs often with state support, in the years following Sri Lanka\\'s independence from the British Empire in 1948. Shortly after gaining independence, Sinhalese was recognized as the sole official language of the nation. After a 26-year military campaign, the Sri Lankan military defeated the Tamil Tigers in May 2009, bringing the civil war to an end.\\nUp to 70,000 had been killed by 2007. Immediately following the end of war, on 20 May 2009, the UN estimated a total of 80,000–100,000 deaths. However, in 2011, referring to the final phase of the war in 2009, the Report of the Secretary-General\\'s Panel of Experts on Accountability in Sri Lanka stated, \"A number of credible sources have estimated that there')),\n",
       " GraphDocument(nodes=[Node(id=\"Secretary-General'S Panel Of Experts On Accountability In Sri Lanka\", type='Organization'), Node(id='Sri Lankan Government', type='Government'), Node(id='Ltte', type='Organization'), Node(id='Sinhalese', type='Ethnic group'), Node(id='Tamils', type='Ethnic group'), Node(id='Sri Lankan Tamils', type='Ethnic group'), Node(id='Sri Lankan Muslim', type='Ethnic group'), Node(id='British', type='Nationality'), Node(id='Ceylon', type='Place'), Node(id='Jaffna', type='Place'), Node(id='Colombo', type='Place'), Node(id='Ponnambalam Arunachalam', type='Person'), Node(id='William Manning', type='Person'), Node(id='N.M. Perera', type='Person'), Node(id='Philip Gunawardena', type='Person')], relationships=[Relationship(source=Node(id=\"Secretary-General'S Panel Of Experts On Accountability In Sri Lanka\", type='Organization'), target=Node(id='Sri Lankan Government', type='Government'), type='CRITICIZED'), Relationship(source=Node(id='Ltte', type='Organization'), target=Node(id='Sinhalese', type='Ethnic group'), type='ATTACKED'), Relationship(source=Node(id='Ltte', type='Organization'), target=Node(id='Sri Lankan Muslim', type='Ethnic group'), type='ATTACKED'), Relationship(source=Node(id='British', type='Nationality'), target=Node(id='Ceylon', type='Place'), type='RULED'), Relationship(source=Node(id='British', type='Nationality'), target=Node(id='Tamils', type='Ethnic group'), type='EMPLOYED'), Relationship(source=Node(id='British', type='Nationality'), target=Node(id='Sinhalese', type='Ethnic group'), type='FAVORED'), Relationship(source=Node(id='British', type='Nationality'), target=Node(id='English Language Schools', type='Institution'), type='ESTABLISHED'), Relationship(source=Node(id='American Ceylon Mission', type='Organization'), target=Node(id='English Language Schools', type='Institution'), type='ESTABLISHED'), Relationship(source=Node(id='Ponnambalam Arunachalam', type='Person'), target=Node(id='Ceylon National Congress', type='Organization'), type='LED'), Relationship(source=Node(id='William Manning', type='Person'), target=Node(id='Colombo Town Seat', type='Political office'), type='CREATED'), Relationship(source=Node(id='Lanka Sama Samaja Party (Lssp)', type='Organization'), target=Node(id='N.M. Perera', type='Person'), type='MEMBER'), Relationship(source=Node(id='Lanka Sama Samaja Party (Lssp)', type='Organization'), target=Node(id='Philip Gunawardena', type='Person'), type='MEMBER')], source=Document(metadata={'title': 'Sri Lankan Civil War', 'summary': 'The Sri Lankan Civil War (Sinhala: ශ්\\u200dරී ලංකාවේ සිවිල් යුද්ධය, romanized: śrī laṁkāvē sivil yuddhaya; Tamil: இலங்கை உள்நாட்டுப் போர், romanized: Ilaṅkai uḷnāṭṭup pōr) was a civil war fought in Sri Lanka from 1983 to 2009. Beginning on 23 July 1983, it was an intermittent insurgency against the government by the Liberation Tigers of Tamil Eelam (LTTE, also known as the Tamil Tigers) led by Velupillai Prabhakaran. The LTTE fought to create an independent Tamil state called Tamil Eelam in the north-east of the island, due to the continuous discrimination and violent persecution against Sri Lankan Tamils by the Sinhalese-dominated Sri Lanka government.\\nViolent persecution erupted in the form of the 1956, 1958, 1977, 1981 and 1983 anti-Tamil pogroms, as well as the 1981 burning of the Jaffna Public Library. These were carried out by the majority Sinhalese mobs often with state support, in the years following Sri Lanka\\'s independence from the British Empire in 1948. Shortly after gaining independence, Sinhalese was recognized as the sole official language of the nation. After a 26-year military campaign, the Sri Lankan military defeated the Tamil Tigers in May 2009, bringing the civil war to an end.\\nUp to 70,000 had been killed by 2007. Immediately following the end of war, on 20 May 2009, the UN estimated a total of 80,000–100,000 deaths. However, in 2011, referring to the final phase of the war in 2009, the Report of the Secretary-General\\'s Panel of Experts on Accountability in Sri Lanka stated, \"A number of credible sources have estimated that there could have been as many as 40,000 civilian deaths.\" The Sri Lankan government has repeatedly refused an independent, international investigation to ascertain the full impact of the war, with some reports claiming that government forces were raping and torturing Tamils involved in collating deaths and disappearances.\\nSince the end of the civil war, the Sri Lankan state has been subject to much global criticism for violating human rights as a result of committing war crimes through bombing civilian targets, usage of heavy weaponry, the abduction and massacres of Sri Lankan Tamils and sexual violence. The LTTE gained notoriety for carrying out numerous attacks against civilians of all ethnicities, particularly those of Sinhalese and Sri Lankan Muslim ethnicity, using child soldiers, assassinations of politicians and dissenters, and the use of suicide bombings against military, political and civilian targets.\\n\\n', 'source': 'https://en.wikipedia.org/wiki/Sri_Lankan_Civil_War'}, page_content=' Secretary-General\\'s Panel of Experts on Accountability in Sri Lanka stated, \"A number of credible sources have estimated that there could have been as many as 40,000 civilian deaths.\" The Sri Lankan government has repeatedly refused an independent, international investigation to ascertain the full impact of the war, with some reports claiming that government forces were raping and torturing Tamils involved in collating deaths and disappearances.\\nSince the end of the civil war, the Sri Lankan state has been subject to much global criticism for violating human rights as a result of committing war crimes through bombing civilian targets, usage of heavy weaponry, the abduction and massacres of Sri Lankan Tamils and sexual violence. The LTTE gained notoriety for carrying out numerous attacks against civilians of all ethnicities, particularly those of Sinhalese and Sri Lankan Muslim ethnicity, using child soldiers, assassinations of politicians and dissenters, and the use of suicide bombings against military, political and civilian targets.\\n\\n\\n== Origin and evolution ==\\n\\nThe origins of the Sri Lankan Civil War lie in the continuous political rancor between the majority Sinhalese and the minority Tamils. The roots of the modern conflict extend back to the colonial era, when the country was known as Ceylon. The British colonial period lasted from 1815 to 1948, during which the British sought monetary gain from Sri Lanka’s supply of tea, coffee, coconuts, and rubber. A labor shortage led the British to employ Tamils from India to work on tea plantations, furthering fears of racial decline among the Sinhalese. English language schools were also established in Jaffna by the American Ceylon Mission, which provided English-language skills for the Tamil population in Jaffna. \\nThe British favored English speakers, so Tamils outcompeted their Sinhalese counterparts in the civil service sector.\\nIn 1919, major Sinhalese and Tamil political organizations united to form the Ceylon National Congress, under the leadership of Ponnambalam Arunachalam, to press the colonial government for more constitutional reforms. British colonial administrator William Manning actively encouraged the concept of \"communal representation\" and created the Colombo town seat in 1920, which alternated between the Tamils and the Sinhalese.\\nAfter their election to the State Council in 1936, the Lanka Sama Samaja Party (LSSP) members N.M. Perera and Philip Gunawardena demanded the replacement of English as the official language by Sinh')),\n",
       " GraphDocument(nodes=[Node(id='N.M. Perera', type='Person'), Node(id='Philip Gunawardena', type='Person'), Node(id='English', type='Language'), Node(id='Sinhala', type='Language'), Node(id='Tamil', type='Language')], relationships=[Relationship(source=Node(id='N.M. Perera', type='Person'), target=Node(id='Philip Gunawardena', type='Person'), type='DEMANDED'), Relationship(source=Node(id='N.M. Perera', type='Person'), target=Node(id='English', type='Language'), type='REPLACEMENT'), Relationship(source=Node(id='N.M. Perera', type='Person'), target=Node(id='Sinhala', type='Language'), type='REPLACEMENT'), Relationship(source=Node(id='N.M. Perera', type='Person'), target=Node(id='Tamil', type='Language'), type='REPLACEMENT')], source=Document(metadata={'title': 'Sri Lankan Civil War', 'summary': 'The Sri Lankan Civil War (Sinhala: ශ්\\u200dරී ලංකාවේ සිවිල් යුද්ධය, romanized: śrī laṁkāvē sivil yuddhaya; Tamil: இலங்கை உள்நாட்டுப் போர், romanized: Ilaṅkai uḷnāṭṭup pōr) was a civil war fought in Sri Lanka from 1983 to 2009. Beginning on 23 July 1983, it was an intermittent insurgency against the government by the Liberation Tigers of Tamil Eelam (LTTE, also known as the Tamil Tigers) led by Velupillai Prabhakaran. The LTTE fought to create an independent Tamil state called Tamil Eelam in the north-east of the island, due to the continuous discrimination and violent persecution against Sri Lankan Tamils by the Sinhalese-dominated Sri Lanka government.\\nViolent persecution erupted in the form of the 1956, 1958, 1977, 1981 and 1983 anti-Tamil pogroms, as well as the 1981 burning of the Jaffna Public Library. These were carried out by the majority Sinhalese mobs often with state support, in the years following Sri Lanka\\'s independence from the British Empire in 1948. Shortly after gaining independence, Sinhalese was recognized as the sole official language of the nation. After a 26-year military campaign, the Sri Lankan military defeated the Tamil Tigers in May 2009, bringing the civil war to an end.\\nUp to 70,000 had been killed by 2007. Immediately following the end of war, on 20 May 2009, the UN estimated a total of 80,000–100,000 deaths. However, in 2011, referring to the final phase of the war in 2009, the Report of the Secretary-General\\'s Panel of Experts on Accountability in Sri Lanka stated, \"A number of credible sources have estimated that there could have been as many as 40,000 civilian deaths.\" The Sri Lankan government has repeatedly refused an independent, international investigation to ascertain the full impact of the war, with some reports claiming that government forces were raping and torturing Tamils involved in collating deaths and disappearances.\\nSince the end of the civil war, the Sri Lankan state has been subject to much global criticism for violating human rights as a result of committing war crimes through bombing civilian targets, usage of heavy weaponry, the abduction and massacres of Sri Lankan Tamils and sexual violence. The LTTE gained notoriety for carrying out numerous attacks against civilians of all ethnicities, particularly those of Sinhalese and Sri Lankan Muslim ethnicity, using child soldiers, assassinations of politicians and dissenters, and the use of suicide bombings against military, political and civilian targets.\\n\\n', 'source': 'https://en.wikipedia.org/wiki/Sri_Lankan_Civil_War'}, page_content=' N.M. Perera and Philip Gunawardena demanded the replacement of English as the official language by Sinhala and Tamil. In November ')),\n",
       " GraphDocument(nodes=[Node(id=\"Sri Lanka Men'S National Cricket Team\", type='Person'), Node(id='The Lions', type='Team'), Node(id='International Cricket Council (Icc)', type='Organization'), Node(id='Test', type='Sport_status'), Node(id='One-Day International (Odi)', type='Sport_status'), Node(id='T20 International (T20I)', type='Sport_status'), Node(id='Ceylon', type='Team'), Node(id='Arjuna Ranatunga', type='Person'), Node(id='Australia', type='Team'), Node(id='India', type='Team'), Node(id='Sri Lanka Cricket', type='Organization')], relationships=[Relationship(source=Node(id=\"Sri Lanka Men'S National Cricket Team\", type='Person'), target=Node(id='The Lions', type='Team'), type='NICKNAME'), Relationship(source=Node(id=\"Sri Lanka Men'S National Cricket Team\", type='Person'), target=Node(id='International Cricket Council (Icc)', type='Organization'), type='MEMBER'), Relationship(source=Node(id=\"Sri Lanka Men'S National Cricket Team\", type='Person'), target=Node(id='Test', type='Sport_status'), type='STATUS'), Relationship(source=Node(id=\"Sri Lanka Men'S National Cricket Team\", type='Person'), target=Node(id='One-Day International (Odi)', type='Sport_status'), type='STATUS'), Relationship(source=Node(id=\"Sri Lanka Men'S National Cricket Team\", type='Person'), target=Node(id='T20 International (T20I)', type='Sport_status'), type='STATUS'), Relationship(source=Node(id=\"Sri Lanka Men'S National Cricket Team\", type='Person'), target=Node(id='Ceylon', type='Team'), type='PREVIOUS_NAME'), Relationship(source=Node(id=\"Sri Lanka Men'S National Cricket Team\", type='Person'), target=Node(id='Arjuna Ranatunga', type='Person'), type='CAPTAIN'), Relationship(source=Node(id=\"Sri Lanka Men'S National Cricket Team\", type='Person'), target=Node(id='Australia', type='Team'), type='OPPONENT'), Relationship(source=Node(id=\"Sri Lanka Men'S National Cricket Team\", type='Person'), target=Node(id='India', type='Team'), type='OPPONENT'), Relationship(source=Node(id=\"Sri Lanka Men'S National Cricket Team\", type='Person'), target=Node(id='Sri Lanka Cricket', type='Organization'), type='ADMINISTERED_BY')], source=Document(metadata={'title': 'Sri Lanka national cricket team', 'summary': \"The Sri Lanka men's national cricket team, (Sinhala: ශ්\\u200dරී ලංකා ජාතික ක්\\u200dරිකට් කණ්ඩායම, romanized: Shri Lanka Jathika Crikat Kandayama; Tamil: இலங்கை தேசிய கிரிக்கெட் அணி) nicknamed The Lions, represents Sri Lanka in men's international cricket. It is a full Member of the International Cricket Council (ICC) with Test, One-Day International (ODI) and T20 International (T20I) status. The team first played international cricket (as Ceylon) in 1926–27 and became an associate member of the ICC in 1965. They were awarded the Test status in 1981, which made Sri Lanka the eighth Test cricket-playing nation. The team is administered by Sri Lanka Cricket.\\nSri Lanka's national cricket team achieved considerable success beginning in the 1990s, rising from underdog status to winning the Cricket World Cup in 1996, under the captaincy of Arjuna Ranatunga. Since then, the team has continued to be a force in international cricket. The Sri Lankan cricket team reached the finals of the 2007 and 2011 Cricket World Cups consecutively. They ended up being runners-up on both occasions.\\nSri Lanka won the Cricket World Cup in 1996 (vs Australia), the ICC Champions Trophy in 2002 (co-champions with India), and the ICC T20 World Cup in 2014 (vs India). They have been consecutive runners-up in the 2007 and 2011 Cricket World Cups, and have been runners-up in the ICC T20 World Cup in 2009 and 2012. The Sri Lankan cricket team currently holds several world records, including the world record for the highest team total in Test cricket.\\n\\n\", 'source': 'https://en.wikipedia.org/wiki/Sri_Lanka_national_cricket_team'}, page_content=\"The Sri Lanka men's national cricket team, (Sinhala: ශ්\\u200dරී ලංකා ජාතික ක්\\u200dරිකට් කණ්ඩායම, romanized: Shri Lanka Jathika Crikat Kandayama; Tamil: இலங்கை தேசிய கிரிக்கெட் அணி) nicknamed The Lions, represents Sri Lanka in men's international cricket. It is a full Member of the International Cricket Council (ICC) with Test, One-Day International (ODI) and T20 International (T20I) status. The team first played international cricket (as Ceylon) in 1926–27 and became an associate member of the ICC in 1965. They were awarded the Test status in 1981, which made Sri Lanka the eighth Test cricket-playing nation. The team is administered by Sri Lanka Cricket.\\nSri Lanka's national cricket team achieved considerable success beginning in the 1990s, rising from underdog status to winning the Cricket World Cup in 1996, under the captaincy of Arjuna Ranatunga. Since then, the team has continued to be a force in international cricket. The Sri Lankan cricket team reached the finals of the 2007 and 2011 Cricket World Cups consecutively. They ended up being runners-up on both occasions.\\nSri Lanka won the Cricket World Cup in 1996 (vs Australia), the ICC Champions Trophy in 2002 (co-champions with India), and the ICC T20 World Cup in 2014 (vs India). They have been consecutive runners-up in the 2007 and 2011 Cricket World Cups, and have been runners-up in the ICC T20 World Cup in 2009 and 2012. The Sri Lankan cricket team currently holds several world records, including the world record for the highest team total in Test cricket.\\n\\n\\n== History ==\\n\\n\\n=== Early Years ===\\nCricket was\")),\n",
       " GraphDocument(nodes=[Node(id='The Highest Team Total In Test Cricket', type='Concept')], relationships=[], source=Document(metadata={'title': 'Sri Lanka national cricket team', 'summary': \"The Sri Lanka men's national cricket team, (Sinhala: ශ්\\u200dරී ලංකා ජාතික ක්\\u200dරිකට් කණ්ඩායම, romanized: Shri Lanka Jathika Crikat Kandayama; Tamil: இலங்கை தேசிய கிரிக்கெட் அணி) nicknamed The Lions, represents Sri Lanka in men's international cricket. It is a full Member of the International Cricket Council (ICC) with Test, One-Day International (ODI) and T20 International (T20I) status. The team first played international cricket (as Ceylon) in 1926–27 and became an associate member of the ICC in 1965. They were awarded the Test status in 1981, which made Sri Lanka the eighth Test cricket-playing nation. The team is administered by Sri Lanka Cricket.\\nSri Lanka's national cricket team achieved considerable success beginning in the 1990s, rising from underdog status to winning the Cricket World Cup in 1996, under the captaincy of Arjuna Ranatunga. Since then, the team has continued to be a force in international cricket. The Sri Lankan cricket team reached the finals of the 2007 and 2011 Cricket World Cups consecutively. They ended up being runners-up on both occasions.\\nSri Lanka won the Cricket World Cup in 1996 (vs Australia), the ICC Champions Trophy in 2002 (co-champions with India), and the ICC T20 World Cup in 2014 (vs India). They have been consecutive runners-up in the 2007 and 2011 Cricket World Cups, and have been runners-up in the ICC T20 World Cup in 2009 and 2012. The Sri Lankan cricket team currently holds several world records, including the world record for the highest team total in Test cricket.\\n\\n\", 'source': 'https://en.wikipedia.org/wiki/Sri_Lanka_national_cricket_team'}, page_content=' the highest team total in Test cricket.\\n\\n\\n== History ==\\n\\n\\n=== Early Years ===\\nCricket was introduced to the island by the British as a result of the colonization and the first recorded match dates back to 1832 as reported in The Colombo Journal. By the 1880s a national team, the Ceylon national cricket team, was formed which began playing first-class cricket by the 1920s. The Ceylon national cricket team achieved Associate Member status of the International Cricket Council in 1965. Renamed Sri Lanka in 1972, the national team first competed in top-level international cricket in 1975, when they were defeated by nine wickets by the West Indies during the 1975 Cricket World Cup at Old Trafford, England.\\n\\n\\n=== Underdog Era ===\\nSri Lanka was awarded Test cricket status in 1981 by the International Cricket Conference. They played their first Test match against England at P. Saravanamuttu Stadium, Colombo, on 17 February 1982. Bandula Warnapura was the captain for Sri Lanka in that match, which England won by 7 wickets. After Sri Lanka was awarded Test status on 21 July 1981 as eighth Test playing nation, they had to wait until 6 September 1985, where Sri Lanka recorded their first Test win by beating India, in the second match of the series by 149 runs at the Paikiasothy Saravanamuttu Stadium, Colombo. They have also won the 2001-02 Asian Test Championship, defeating Pakistan in the final by an innings and 175 runs.\\nSri Lanka won their first Test match under the leadership of Duleep Mendis on 11 September 1985 against India, winning by 149 runs at P. Saravanamuttu Stadium. Eventually they won the three-match Test series, 1–0. Sri Lanka had to wait more than seven years for their next series victory, which came against New Zealand in December 1992, when they won the two-match series 1–0. This was immediately followed by a one-wicket victory against England in a one-Test series.\\nTwo years later, on 15 March 1995, Sri Lanka won their first overseas Test match under the leadership of Arjuna Ranatunga against New Zealand, when they beat them by 241 runs at Napier. This win also resulted in their first overseas Test series victory, 1–0. Their next series too was an overseas series, against Pakistan, and that one too resulted in Sri Lankan victory.\\nSri Lanka registered their first ODI win against India')),\n",
       " GraphDocument(nodes=[Node(id='Sri Lanka', type='Team'), Node(id='India', type='Team'), Node(id='Old Trafford', type='Venue'), Node(id='16 June 1979', type='Date')], relationships=[Relationship(source=Node(id='Sri Lanka', type='Team'), target=Node(id='India', type='Team'), type='DEFEATED'), Relationship(source=Node(id='Sri Lanka', type='Team'), target=Node(id='Old Trafford', type='Venue'), type='PLAYED_AT'), Relationship(source=Node(id='Sri Lanka', type='Team'), target=Node(id='16 June 1979', type='Date'), type='WON_ON')], source=Document(metadata={'title': 'Sri Lanka national cricket team', 'summary': \"The Sri Lanka men's national cricket team, (Sinhala: ශ්\\u200dරී ලංකා ජාතික ක්\\u200dරිකට් කණ්ඩායම, romanized: Shri Lanka Jathika Crikat Kandayama; Tamil: இலங்கை தேசிய கிரிக்கெட் அணி) nicknamed The Lions, represents Sri Lanka in men's international cricket. It is a full Member of the International Cricket Council (ICC) with Test, One-Day International (ODI) and T20 International (T20I) status. The team first played international cricket (as Ceylon) in 1926–27 and became an associate member of the ICC in 1965. They were awarded the Test status in 1981, which made Sri Lanka the eighth Test cricket-playing nation. The team is administered by Sri Lanka Cricket.\\nSri Lanka's national cricket team achieved considerable success beginning in the 1990s, rising from underdog status to winning the Cricket World Cup in 1996, under the captaincy of Arjuna Ranatunga. Since then, the team has continued to be a force in international cricket. The Sri Lankan cricket team reached the finals of the 2007 and 2011 Cricket World Cups consecutively. They ended up being runners-up on both occasions.\\nSri Lanka won the Cricket World Cup in 1996 (vs Australia), the ICC Champions Trophy in 2002 (co-champions with India), and the ICC T20 World Cup in 2014 (vs India). They have been consecutive runners-up in the 2007 and 2011 Cricket World Cups, and have been runners-up in the ICC T20 World Cup in 2009 and 2012. The Sri Lankan cricket team currently holds several world records, including the world record for the highest team total in Test cricket.\\n\\n\", 'source': 'https://en.wikipedia.org/wiki/Sri_Lanka_national_cricket_team'}, page_content=', and that one too resulted in Sri Lankan victory.\\nSri Lanka registered their first ODI win against India at Old Trafford, England on 16 June 1979.\\n\\n\\n=== Modern era ===\\n\\nAfter many years of underdog status, Sri Lanka finally entered the limelight of the cricketing world after winning'))]"
      ]
     },
     "execution_count": 15,
     "metadata": {},
     "output_type": "execute_result"
    }
   ],
   "source": [
    "graph_docs"
   ]
  },
  {
   "cell_type": "code",
   "execution_count": 20,
   "metadata": {},
   "outputs": [
    {
     "name": "stdout",
     "output_type": "stream",
     "text": [
      "Node properties:\n",
      "\n",
      "Relationship properties:\n",
      "\n",
      "The relationships:\n",
      "\n"
     ]
    }
   ],
   "source": [
    "graph.refresh_schema()\n",
    "print(graph.schema)"
   ]
  },
  {
   "cell_type": "code",
   "execution_count": 28,
   "metadata": {},
   "outputs": [],
   "source": [
    "graph.add_graph_documents(\n",
    "    graph_documents=graph_docs, baseEntityLabel=True, include_source=True\n",
    ")"
   ]
  },
  {
   "cell_type": "code",
   "execution_count": 29,
   "metadata": {},
   "outputs": [
    {
     "name": "stdout",
     "output_type": "stream",
     "text": [
      "Node properties:\n",
      "Person {id: STRING}\n",
      "Document {title: STRING, id: STRING, text: STRING, summary: STRING, source: STRING}\n",
      "Country {id: STRING}\n",
      "Historical_name {id: STRING}\n",
      "Official_name {id: STRING}\n",
      "Continent {id: STRING}\n",
      "Ocean {id: STRING}\n",
      "Bay {id: STRING}\n",
      "Gulf {id: STRING}\n",
      "Strait {id: STRING}\n",
      "Ethnicity {id: STRING}\n",
      "Text {id: STRING}\n",
      "Trade_route {id: STRING}\n",
      "Historical_period {id: STRING}\n",
      "Kingdom {id: STRING}\n",
      "Empire {id: STRING}\n",
      "Group {id: STRING}\n",
      "Military {id: STRING}\n",
      "Location {id: STRING}\n",
      "Conflict {id: STRING}\n",
      "Territory {id: STRING}\n",
      "Ethnic group {id: STRING}\n",
      "Building {id: STRING}\n",
      "Organization {id: STRING}\n",
      "Government {id: STRING}\n",
      "Nationality {id: STRING}\n",
      "Place {id: STRING}\n",
      "Language {id: STRING}\n",
      "Team {id: STRING}\n",
      "Sport_status {id: STRING}\n",
      "Concept {id: STRING}\n",
      "Venue {id: STRING}\n",
      "Date {id: STRING}\n",
      "Relationship properties:\n",
      "\n",
      "The relationships:\n",
      "(:Person)-[:DEMANDED]->(:Person)\n",
      "(:Person)-[:REPLACEMENT]->(:Language)\n",
      "(:Person)-[:MEMBER]->(:Organization)\n",
      "(:Person)-[:NICKNAME]->(:Team)\n",
      "(:Person)-[:STATUS]->(:Sport_status)\n",
      "(:Person)-[:PREVIOUS_NAME]->(:Historical_name)\n",
      "(:Person)-[:PREVIOUS_NAME]->(:Place)\n",
      "(:Person)-[:PREVIOUS_NAME]->(:Team)\n",
      "(:Person)-[:CAPTAIN]->(:Person)\n",
      "(:Person)-[:OPPONENT]->(:Country)\n",
      "(:Person)-[:OPPONENT]->(:Team)\n",
      "(:Person)-[:ADMINISTERED_BY]->(:Organization)\n",
      "(:Document)-[:MENTIONS]->(:Country)\n",
      "(:Document)-[:MENTIONS]->(:Team)\n",
      "(:Document)-[:MENTIONS]->(:Historical_name)\n",
      "(:Document)-[:MENTIONS]->(:Place)\n",
      "(:Document)-[:MENTIONS]->(:Official_name)\n",
      "(:Document)-[:MENTIONS]->(:Continent)\n",
      "(:Document)-[:MENTIONS]->(:Ocean)\n",
      "(:Document)-[:MENTIONS]->(:Bay)\n",
      "(:Document)-[:MENTIONS]->(:Gulf)\n",
      "(:Document)-[:MENTIONS]->(:Strait)\n",
      "(:Document)-[:MENTIONS]->(:Ethnicity)\n",
      "(:Document)-[:MENTIONS]->(:Ethnic group)\n",
      "(:Document)-[:MENTIONS]->(:Text)\n",
      "(:Document)-[:MENTIONS]->(:Trade_route)\n",
      "(:Document)-[:MENTIONS]->(:Historical_period)\n",
      "(:Document)-[:MENTIONS]->(:Kingdom)\n",
      "(:Document)-[:MENTIONS]->(:Empire)\n",
      "(:Document)-[:MENTIONS]->(:Nationality)\n",
      "(:Document)-[:MENTIONS]->(:Group)\n",
      "(:Document)-[:MENTIONS]->(:Military)\n",
      "(:Document)-[:MENTIONS]->(:Location)\n",
      "(:Document)-[:MENTIONS]->(:Territory)\n",
      "(:Document)-[:MENTIONS]->(:Conflict)\n",
      "(:Document)-[:MENTIONS]->(:Person)\n",
      "(:Document)-[:MENTIONS]->(:Building)\n",
      "(:Document)-[:MENTIONS]->(:Organization)\n",
      "(:Document)-[:MENTIONS]->(:Government)\n",
      "(:Document)-[:MENTIONS]->(:Language)\n",
      "(:Document)-[:MENTIONS]->(:Sport_status)\n",
      "(:Document)-[:MENTIONS]->(:Concept)\n",
      "(:Document)-[:MENTIONS]->(:Venue)\n",
      "(:Document)-[:MENTIONS]->(:Date)\n",
      "(:Country)-[:HISTORICAL_NAME]->(:Historical_name)\n",
      "(:Country)-[:HISTORICAL_NAME]->(:Place)\n",
      "(:Country)-[:HISTORICAL_NAME]->(:Team)\n",
      "(:Country)-[:OFFICIAL_NAME]->(:Official_name)\n",
      "(:Country)-[:LOCATED_IN]->(:Continent)\n",
      "(:Country)-[:LOCATED_IN]->(:Ocean)\n",
      "(:Country)-[:NEAR]->(:Bay)\n",
      "(:Country)-[:SEPARATED_BY]->(:Gulf)\n",
      "(:Country)-[:SEPARATED_BY]->(:Strait)\n",
      "(:Country)-[:MARITIME_BORDER]->(:Country)\n",
      "(:Country)-[:MARITIME_BORDER]->(:Team)\n",
      "(:Country)-[:MAJORITY_POPULATION]->(:Ethnicity)\n",
      "(:Country)-[:MAJORITY_POPULATION]->(:Ethnic group)\n",
      "(:Country)-[:MINORITY_POPULATION]->(:Ethnicity)\n",
      "(:Country)-[:MINORITY_POPULATION]->(:Ethnic group)\n",
      "(:Country)-[:POPULATION_GROUP]->(:Ethnicity)\n",
      "(:Country)-[:EARLIEST_WRITINGS]->(:Text)\n",
      "(:Country)-[:PART_OF]->(:Trade_route)\n",
      "(:Country)-[:PART_OF]->(:Kingdom)\n",
      "(:Country)-[:KNOWN_TO]->(:Historical_period)\n",
      "(:Country)-[:CONTROLLED_BY]->(:Empire)\n",
      "(:Country)-[:CONTROLLED_BY]->(:Kingdom)\n",
      "(:Country)-[:CONTROLLED_BY]->(:Nationality)\n",
      "(:Country)-[:INVOLVED_IN_CONFLICT_WITH]->(:Group)\n",
      "(:Country)-[:DEFEATED]->(:Country)\n",
      "(:Country)-[:DEFEATED]->(:Team)\n",
      "(:Country)-[:DEFEATED]->(:Military)\n",
      "(:Country)-[:WASPARTOF]->(:Country)\n",
      "(:Country)-[:LOCATEDIN]->(:Building)\n",
      "(:Country)-[:PLAYED_AT]->(:Venue)\n",
      "(:Country)-[:WON_ON]->(:Date)\n",
      "(:Ethnicity)-[:RESIDESIN]->(:Country)\n",
      "(:Ethnicity)-[:RESIDESIN]->(:Team)\n",
      "(:Empire)-[:RULED]->(:Historical_name)\n",
      "(:Empire)-[:RULED]->(:Place)\n",
      "(:Empire)-[:RULED]->(:Team)\n",
      "(:Empire)-[:EMPLOYED]->(:Ethnic group)\n",
      "(:Empire)-[:FAVORED]->(:Ethnicity)\n",
      "(:Empire)-[:FAVORED]->(:Ethnic group)\n",
      "(:Group)-[:LEDBY]->(:Person)\n",
      "(:Group)-[:FOUGHTFOR]->(:Location)\n",
      "(:Group)-[:FOUGHTFOR]->(:Territory)\n",
      "(:Location)-[:IS_KNOWN_AS]->(:Country)\n",
      "(:Location)-[:IS_KNOWN_AS]->(:Team)\n",
      "(:Conflict)-[:INVOLVEDIN]->(:Group)\n",
      "(:Territory)-[:IS_KNOWN_AS]->(:Country)\n",
      "(:Territory)-[:IS_KNOWN_AS]->(:Team)\n",
      "(:Ethnic group)-[:RESIDESIN]->(:Country)\n",
      "(:Ethnic group)-[:RESIDESIN]->(:Team)\n",
      "(:Organization)-[:CRITICIZED]->(:Government)\n",
      "(:Organization)-[:ATTACKED]->(:Ethnicity)\n",
      "(:Organization)-[:ATTACKED]->(:Ethnic group)\n",
      "(:Nationality)-[:RULED]->(:Historical_name)\n",
      "(:Nationality)-[:RULED]->(:Place)\n",
      "(:Nationality)-[:RULED]->(:Team)\n",
      "(:Nationality)-[:EMPLOYED]->(:Ethnic group)\n",
      "(:Nationality)-[:FAVORED]->(:Ethnicity)\n",
      "(:Nationality)-[:FAVORED]->(:Ethnic group)\n",
      "(:Team)-[:HISTORICAL_NAME]->(:Historical_name)\n",
      "(:Team)-[:HISTORICAL_NAME]->(:Place)\n",
      "(:Team)-[:HISTORICAL_NAME]->(:Team)\n",
      "(:Team)-[:OFFICIAL_NAME]->(:Official_name)\n",
      "(:Team)-[:LOCATED_IN]->(:Continent)\n",
      "(:Team)-[:LOCATED_IN]->(:Ocean)\n",
      "(:Team)-[:NEAR]->(:Bay)\n",
      "(:Team)-[:SEPARATED_BY]->(:Gulf)\n",
      "(:Team)-[:SEPARATED_BY]->(:Strait)\n",
      "(:Team)-[:MARITIME_BORDER]->(:Country)\n",
      "(:Team)-[:MARITIME_BORDER]->(:Team)\n",
      "(:Team)-[:MAJORITY_POPULATION]->(:Ethnicity)\n",
      "(:Team)-[:MAJORITY_POPULATION]->(:Ethnic group)\n",
      "(:Team)-[:MINORITY_POPULATION]->(:Ethnicity)\n",
      "(:Team)-[:MINORITY_POPULATION]->(:Ethnic group)\n",
      "(:Team)-[:POPULATION_GROUP]->(:Ethnicity)\n",
      "(:Team)-[:EARLIEST_WRITINGS]->(:Text)\n",
      "(:Team)-[:PART_OF]->(:Trade_route)\n",
      "(:Team)-[:PART_OF]->(:Kingdom)\n",
      "(:Team)-[:KNOWN_TO]->(:Historical_period)\n",
      "(:Team)-[:CONTROLLED_BY]->(:Empire)\n",
      "(:Team)-[:CONTROLLED_BY]->(:Kingdom)\n",
      "(:Team)-[:CONTROLLED_BY]->(:Nationality)\n",
      "(:Team)-[:INVOLVED_IN_CONFLICT_WITH]->(:Group)\n",
      "(:Team)-[:DEFEATED]->(:Country)\n",
      "(:Team)-[:DEFEATED]->(:Team)\n",
      "(:Team)-[:DEFEATED]->(:Military)\n",
      "(:Team)-[:WASPARTOF]->(:Country)\n",
      "(:Team)-[:LOCATEDIN]->(:Building)\n",
      "(:Team)-[:PLAYED_AT]->(:Venue)\n",
      "(:Team)-[:WON_ON]->(:Date)\n"
     ]
    }
   ],
   "source": [
    "graph.refresh_schema()\n",
    "print(graph.schema)"
   ]
  },
  {
   "cell_type": "code",
   "execution_count": 30,
   "metadata": {},
   "outputs": [],
   "source": [
    "from typing import Tuple, List, Optional"
   ]
  },
  {
   "cell_type": "code",
   "execution_count": 32,
   "metadata": {},
   "outputs": [
    {
     "name": "stderr",
     "output_type": "stream",
     "text": [
      "\n",
      "[notice] A new release of pip is available: 23.2.1 -> 24.1.2\n",
      "[notice] To update, run: python.exe -m pip install --upgrade pip\n"
     ]
    }
   ],
   "source": [
    "!pip --quiet install langchain-voyageai"
   ]
  },
  {
   "cell_type": "code",
   "execution_count": 49,
   "metadata": {},
   "outputs": [
    {
     "name": "stdout",
     "output_type": "stream",
     "text": [
      "batch size None\n"
     ]
    }
   ],
   "source": [
    "from langchain_community.vectorstores import Neo4jVector\n",
    "from langchain_voyageai import VoyageAIEmbeddings\n",
    "embedd_model = VoyageAIEmbeddings(\n",
    "    voyage_api_key=os.environ.get(\"VOYAGE_KEY\"), model=\"voyage-2\"\n",
    ")"
   ]
  },
  {
   "cell_type": "code",
   "execution_count": 71,
   "metadata": {},
   "outputs": [
    {
     "name": "stderr",
     "output_type": "stream",
     "text": [
      "Received notification from DBMS server: {severity: WARNING} {code: Neo.ClientNotification.Statement.FeatureDeprecationWarning} {category: DEPRECATION} {title: This feature is deprecated and will be removed in future versions.} {description: The query used a deprecated procedure. ('db.create.setVectorProperty' has been replaced by 'db.create.setNodeVectorProperty')} {position: line: 1, column: 70, offset: 69} for query: \"UNWIND $data AS row MATCH (n:`Document`) WHERE elementId(n) = row.id CALL db.create.setVectorProperty(n, 'embedding', row.embedding) YIELD node RETURN count(*)\"\n"
     ]
    }
   ],
   "source": [
    "vector_store = Neo4jVector.from_existing_graph(\n",
    "    embedding=embedd_model,\n",
    "    url=NEO4J_URI,\n",
    "    username=NEO4J_USERNAME,\n",
    "    password=NEO4J_PASSWORD,\n",
    "    index_name=\"Country_index\",\n",
    "    node_label=\"Document\",\n",
    "    text_node_properties=[\"text\"],\n",
    "    embedding_node_property=\"embedding\",\n",
    ")"
   ]
  },
  {
   "cell_type": "code",
   "execution_count": 73,
   "metadata": {},
   "outputs": [
    {
     "data": {
      "text/plain": [
       "[]"
      ]
     },
     "execution_count": 73,
     "metadata": {},
     "output_type": "execute_result"
    }
   ],
   "source": [
    "graph.query(\n",
    "    \"CREATE FULLTEXT INDEX entity IF NOT EXISTS FOR (e:__Entity__) ON EACH [e.id]\"\n",
    ")"
   ]
  },
  {
   "cell_type": "code",
   "execution_count": 74,
   "metadata": {},
   "outputs": [],
   "source": [
    "from langchain_core.pydantic_v1 import BaseModel, Field\n",
    "\n",
    "# Extract entities from text\n",
    "class Entities(BaseModel):\n",
    "    \"\"\"Identifying information about entities.\"\"\"\n",
    "\n",
    "    names: List[str] = Field(\n",
    "        ...,\n",
    "        description=\"All the person, organization, or business entities that \"\n",
    "        \"appear in the text\",\n",
    "    )"
   ]
  },
  {
   "cell_type": "code",
   "execution_count": 75,
   "metadata": {},
   "outputs": [],
   "source": [
    "from langchain_core.prompts import ChatPromptTemplate\n",
    "from langchain_core.prompts import PromptTemplate\n",
    "\n",
    "\n",
    "prompt = ChatPromptTemplate.from_messages(\n",
    "    [\n",
    "        (\n",
    "            \"system\",\n",
    "            \"You are extracting organization and person entities from the text.\",\n",
    "        ),\n",
    "        (\n",
    "            \"human\",\n",
    "            \"Use the given format to extract information from the following \"\n",
    "            \"input: {question}\",\n",
    "        ),\n",
    "    ]\n",
    ")"
   ]
  },
  {
   "cell_type": "code",
   "execution_count": 76,
   "metadata": {},
   "outputs": [],
   "source": [
    "entity_chain = prompt | llm.with_structured_output(Entities)"
   ]
  },
  {
   "cell_type": "code",
   "execution_count": 77,
   "metadata": {},
   "outputs": [
    {
     "data": {
      "text/plain": [
       "['Amelia Earhart']"
      ]
     },
     "execution_count": 77,
     "metadata": {},
     "output_type": "execute_result"
    }
   ],
   "source": [
    "entity_chain.invoke({\"question\": \"Where was Amelia Earhart born?\"}).names"
   ]
  },
  {
   "cell_type": "code",
   "execution_count": 79,
   "metadata": {},
   "outputs": [],
   "source": [
    "from langchain_community.vectorstores.neo4j_vector import remove_lucene_chars\n",
    "\n",
    "\n",
    "def generate_full_text_query(input: str) -> str:\n",
    "    full_text_query = \"\"\n",
    "    words = [el for el in remove_lucene_chars(input).split() if el]\n",
    "    for word in words[:-1]:\n",
    "        full_text_query += f\" {word}~2 AND\"\n",
    "    full_text_query += f\" {words[-1]}~2\"\n",
    "    return full_text_query.strip()"
   ]
  },
  {
   "cell_type": "code",
   "execution_count": 80,
   "metadata": {},
   "outputs": [],
   "source": [
    "# Fulltext index query\n",
    "def structured_retriever(question: str) -> str:\n",
    "    result = \"\"\n",
    "    entities = entity_chain.invoke({\"question\": question})\n",
    "    for entity in entities.names:\n",
    "        response = graph.query(\n",
    "            \"\"\"CALL db.index.fulltext.queryNodes('entity', $query, {limit:2})\n",
    "            YIELD node,score\n",
    "            CALL {\n",
    "              WITH node\n",
    "              MATCH (node)-[r:!MENTIONS]->(neighbor)\n",
    "              RETURN node.id + ' - ' + type(r) + ' -> ' + neighbor.id AS output\n",
    "              UNION ALL\n",
    "              WITH node\n",
    "              MATCH (node)<-[r:!MENTIONS]-(neighbor)\n",
    "              RETURN neighbor.id + ' - ' + type(r) + ' -> ' +  node.id AS output\n",
    "            }\n",
    "            RETURN output LIMIT 50\n",
    "            \"\"\",\n",
    "            {\"query\": generate_full_text_query(entity)},\n",
    "        )\n",
    "        result += \"\\n\".join([el[\"output\"] for el in response])\n",
    "    return result"
   ]
  },
  {
   "cell_type": "code",
   "execution_count": 84,
   "metadata": {},
   "outputs": [
    {
     "name": "stdout",
     "output_type": "stream",
     "text": [
      "\n"
     ]
    }
   ],
   "source": [
    "print(structured_retriever(\"Vadda People\"))"
   ]
  },
  {
   "cell_type": "code",
   "execution_count": 86,
   "metadata": {},
   "outputs": [],
   "source": [
    "def retriever(question: str):\n",
    "    print(f\"Search query: {question}\")\n",
    "    structured_data = structured_retriever(question)\n",
    "    unstructured_data = [\n",
    "        el.page_content for el in vector_store.similarity_search(question)\n",
    "    ]\n",
    "    final_data = f\"\"\"Structured data:\n",
    "{structured_data}\n",
    "Unstructured data:\n",
    "{\"#Document \". join(unstructured_data)}\n",
    "    \"\"\"\n",
    "    return final_data"
   ]
  },
  {
   "cell_type": "code",
   "execution_count": 87,
   "metadata": {},
   "outputs": [],
   "source": [
    "_template = \"\"\"Given the following conversation and a follow up question, rephrase the follow up question to be a standalone question,\n",
    "in its original language.\n",
    "Chat History:\n",
    "{chat_history}\n",
    "Follow Up Input: {question}\n",
    "Standalone question:\"\"\""
   ]
  },
  {
   "cell_type": "code",
   "execution_count": 88,
   "metadata": {},
   "outputs": [],
   "source": [
    "CONDENSE_QUESTION_PROMPT = PromptTemplate.from_template(_template)"
   ]
  },
  {
   "cell_type": "code",
   "execution_count": 94,
   "metadata": {},
   "outputs": [],
   "source": [
    "from langchain_core.messages import HumanMessage, AIMessage\n",
    "\n",
    "\n",
    "def _format_chat_history(chat_history: List[Tuple[str, str]]) -> List:\n",
    "    buffer = []\n",
    "    for human, ai in chat_history:\n",
    "        buffer.append(HumanMessage(content=human))\n",
    "        buffer.append(AIMessage(content=ai))\n",
    "    return buffer"
   ]
  },
  {
   "cell_type": "code",
   "execution_count": 96,
   "metadata": {},
   "outputs": [],
   "source": [
    "from langchain_core.runnables import (\n",
    "    RunnableBranch,\n",
    "    RunnableLambda,\n",
    "    RunnableParallel,\n",
    "    RunnablePassthrough,\n",
    ")\n",
    "from langchain_core.output_parsers import StrOutputParser\n",
    "\n",
    "_search_query = RunnableBranch(\n",
    "    # If input includes chat_history, we condense it with the follow-up question\n",
    "    (\n",
    "        RunnableLambda(lambda x: bool(x.get(\"chat_history\"))).with_config(\n",
    "            run_name=\"HasChatHistoryCheck\"\n",
    "        ),  # Condense follow-up question and chat into a standalone_question\n",
    "        RunnablePassthrough.assign(\n",
    "            chat_history=lambda x: _format_chat_history(x[\"chat_history\"])\n",
    "        )\n",
    "        | CONDENSE_QUESTION_PROMPT\n",
    "        | llm\n",
    "        | StrOutputParser(),\n",
    "    ),\n",
    "    # Else, we have no chat history, so just pass through the question\n",
    "    RunnableLambda(lambda x: x[\"question\"]),\n",
    ")"
   ]
  },
  {
   "cell_type": "code",
   "execution_count": 99,
   "metadata": {},
   "outputs": [],
   "source": [
    "template = \"\"\"Answer the question based only on the following context:\n",
    "{context}\n",
    "\n",
    "Question: {question}\n",
    "Use natural language and be concise.\n",
    "Answer:\"\"\""
   ]
  },
  {
   "cell_type": "code",
   "execution_count": 100,
   "metadata": {},
   "outputs": [],
   "source": [
    "prompt = ChatPromptTemplate.from_template(template)"
   ]
  },
  {
   "cell_type": "code",
   "execution_count": 101,
   "metadata": {},
   "outputs": [],
   "source": [
    "chain = (\n",
    "    RunnableParallel(\n",
    "        {\n",
    "            \"context\": _search_query | retriever,\n",
    "            \"question\": RunnablePassthrough(),\n",
    "        }\n",
    "    )\n",
    "    | prompt\n",
    "    | llm\n",
    "    | StrOutputParser()\n",
    ")"
   ]
  },
  {
   "cell_type": "code",
   "execution_count": 104,
   "metadata": {},
   "outputs": [
    {
     "name": "stdout",
     "output_type": "stream",
     "text": [
      "Search query: Vadda People\n"
     ]
    },
    {
     "data": {
      "text/plain": [
       "'The Vedda are one of the long-established ethnic groups in Sri Lanka. \\n'"
      ]
     },
     "execution_count": 104,
     "metadata": {},
     "output_type": "execute_result"
    }
   ],
   "source": [
    "chain.invoke({\"question\": \"Vadda People\"})"
   ]
  }
 ],
 "metadata": {
  "kernelspec": {
   "display_name": "env",
   "language": "python",
   "name": "python3"
  },
  "language_info": {
   "codemirror_mode": {
    "name": "ipython",
    "version": 3
   },
   "file_extension": ".py",
   "mimetype": "text/x-python",
   "name": "python",
   "nbconvert_exporter": "python",
   "pygments_lexer": "ipython3",
   "version": "3.12.1"
  }
 },
 "nbformat": 4,
 "nbformat_minor": 2
}
