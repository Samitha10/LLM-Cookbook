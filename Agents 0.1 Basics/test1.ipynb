{
 "cells": [
  {
   "cell_type": "code",
   "execution_count": 2,
   "metadata": {},
   "outputs": [],
   "source": [
    "from langchain_core.tools import tool\n",
    "from langchain_groq import ChatGroq\n",
    "import os \n",
    "llm = ChatGroq(temperature=0, model_name=\"gemma2-9b-it\", api_key=os.environ.get(\"GROQ_KEY\"))"
   ]
  },
  {
   "cell_type": "markdown",
   "metadata": {},
   "source": [
    "#### Define tools"
   ]
  },
  {
   "cell_type": "code",
   "execution_count": 7,
   "metadata": {},
   "outputs": [],
   "source": [
    "from pydantic.v1 import BaseModel, Field\n",
    "class catalog(BaseModel):\n",
    "    gender: str = Field(..., description=\"gender of the person\")\n",
    "    product_type: str = Field(..., description=\"type of the product\")\n",
    "\n",
    "@tool(args_schema=catalog)\n",
    "def identifier(text: str) -> dict:\n",
    "    \"\"\"identify the gender and product type\"\"\"\n",
    " \n",
    "    gender = 'unknown'\n",
    "    product_type = 'unknown'\n",
    "    return {\"gender\": gender, \"product_type\": product_type}\n",
    "\n",
    "@tool\n",
    "def conveter(text: str) -> str:\n",
    "    \"\"\"convert the text to lowercase\"\"\"\n",
    "    return text.lower()"
   ]
  },
  {
   "cell_type": "code",
   "execution_count": 8,
   "metadata": {},
   "outputs": [],
   "source": [
    "tools = [identifier, conveter]\n",
    "toolLlm = llm.bind_tools(tools)"
   ]
  },
  {
   "cell_type": "code",
   "execution_count": 24,
   "metadata": {},
   "outputs": [
    {
     "name": "stdout",
     "output_type": "stream",
     "text": [
      "content='' additional_kwargs={'tool_calls': [{'id': 'call_pzs1', 'function': {'arguments': '{\"gender\":\"female\",\"product_type\":\"skin care\"}', 'name': 'identifier'}, 'type': 'function'}]} response_metadata={'token_usage': {'completion_tokens': 91, 'prompt_tokens': 1098, 'total_tokens': 1189, 'completion_time': 0.186326931, 'prompt_time': 0.047543632, 'queue_time': None, 'total_time': 0.233870563}, 'model_name': 'gemma2-9b-it', 'system_fingerprint': 'fp_10c08bf97d', 'finish_reason': 'tool_calls', 'logprobs': None} id='run-ebaee3c0-9faa-4c8c-9f13-493d7ae2a57c-0' tool_calls=[{'name': 'identifier', 'args': {'gender': 'female', 'product_type': 'skin care'}, 'id': 'call_pzs1'}] usage_metadata={'input_tokens': 1098, 'output_tokens': 91, 'total_tokens': 1189}\n"
     ]
    }
   ],
   "source": [
    "result = toolLlm.invoke(\"My mom want some skin care products\")\n",
    "print(result)"
   ]
  },
  {
   "cell_type": "code",
   "execution_count": 25,
   "metadata": {},
   "outputs": [
    {
     "name": "stdout",
     "output_type": "stream",
     "text": [
      "[{'name': 'identifier', 'args': {'gender': 'female', 'product_type': 'skin care'}, 'id': 'call_pzs1'}]\n",
      "identifier\n",
      "{'gender': 'female', 'product_type': 'skin care'}\n"
     ]
    }
   ],
   "source": [
    "print(result.tool_calls)\n",
    "print(result.tool_calls[0][\"name\"])\n",
    "print(result.tool_calls[0][\"args\"])"
   ]
  }
 ],
 "metadata": {
  "kernelspec": {
   "display_name": "env",
   "language": "python",
   "name": "python3"
  },
  "language_info": {
   "codemirror_mode": {
    "name": "ipython",
    "version": 3
   },
   "file_extension": ".py",
   "mimetype": "text/x-python",
   "name": "python",
   "nbconvert_exporter": "python",
   "pygments_lexer": "ipython3",
   "version": "3.12.1"
  }
 },
 "nbformat": 4,
 "nbformat_minor": 2
}
